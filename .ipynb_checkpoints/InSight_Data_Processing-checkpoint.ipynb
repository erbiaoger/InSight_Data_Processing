{
 "cells": [
  {
   "cell_type": "markdown",
   "id": "eaffcc87-d97a-4628-a398-20ba2fc0dec6",
   "metadata": {},
   "source": [
    "<div style=\"float: right; width: 70%; height: 200px;\">\n",
    "  <div style=\"position: relative; top: 20%;padding-right:20%;\">\n",
    "  <div style=\"font-size:280%;font-weight: bold;padding-top: 20px;\"> MARS</div>\n",
    "  <div style=\"font-size:150%;font-weight: bold;padding-top: 20px;color: rgba(0 , 0 , 0 , 0.5);\"> Plot inSight Data</div>\n",
    "  </div>\n",
    "</div>\n"
   ]
  },
  {
   "cell_type": "code",
   "execution_count": null,
   "id": "1058f525-2bc5-4b1f-be50-d800761cf45e",
   "metadata": {
    "tags": []
   },
   "outputs": [],
   "source": [
    "import os\n",
    "\n",
    "import numpy as np\n",
    "import obspy\n",
    "import matplotlib.pyplot as plt\n",
    "from matplotlib import cm\n",
    "from matplotlib.ticker import LinearLocator\n",
    "from scipy import signal, fft\n",
    "import pprint as pp\n",
    "\n",
    "import utils\n",
    "\n",
    "plt.style.use('ggplot')\n",
    "plt.rcParams['figure.figsize'] = 20, 5\n",
    "plt.rcParams['lines.linewidth'] = 0.5\n",
    "\n",
    "#%load_ext autoreload\n",
    "#%autoreload 1\n",
    "#%matplotlib widget"
   ]
  },
  {
   "cell_type": "code",
   "execution_count": null,
   "id": "364e7b59-c564-4072-a3b9-869986674889",
   "metadata": {
    "tags": []
   },
   "outputs": [],
   "source": [
    "## load inSight data to solar\n",
    "solar = utils.Solar('VF', 'B').get_solar()\n",
    "#pp.pprint(solar)\n",
    "\n",
    "trace = solar['S0986c']['VEL']\n",
    "traceE = trace[0].copy()\n",
    "traceN = trace[1].copy()\n",
    "traceZ = trace[2].copy()\n",
    "\n",
    "data = traceZ.data\n",
    "npts = traceZ.stats.npts\n",
    "delta = traceZ.stats.delta\n",
    "fs = traceZ.stats.sampling_rate\n",
    "xticks = np.arange(0, npts*delta, delta)"
   ]
  },
  {
   "cell_type": "markdown",
   "id": "22b03c80-5ea4-4419-8170-8040d7ed35b7",
   "metadata": {
    "tags": []
   },
   "source": [
    "## 自相关"
   ]
  },
  {
   "cell_type": "code",
   "execution_count": null,
   "id": "b280905c-17fc-431b-b471-40d875b4351a",
   "metadata": {
    "tags": []
   },
   "outputs": [],
   "source": [
    "## 互相关\n",
    "ZZ = np.correlate(traceZ.data, traceZ.data, 'same')\n",
    "NZ = np.correlate(traceN.data, traceZ.data, 'same')\n",
    "EN = np.correlate(traceE.data, traceN.data, 'same')\n",
    "ZE = np.correlate(traceZ.data, traceE.data, 'same')\n",
    "\n",
    "fig = plt.figure()\n",
    "plt.plot(xticks, traceZ)\n",
    "plt.xlabel('Time [s]'); plt.title('traceN raw signal'); plt.show()\n",
    "plt.plot(xticks, ZZ)\n",
    "plt.xlabel('Time [s]'); plt.title('traceZ autocorrelation'); plt.show()\n",
    "plt.plot(xticks, NZ)\n",
    "plt.xlabel('Time [s]'); plt.title('traceN and traceZ autocorrelation'); plt.show()\n",
    "plt.plot(xticks, EN)\n",
    "plt.xlabel('Time [s]'); plt.title('traceE and traceN autocorrelation'); plt.show()\n",
    "plt.plot(xticks, ZE)\n",
    "plt.xlabel('Time [s]'); plt.title('traceZ and traceE autocorrelation'); plt.show()"
   ]
  },
  {
   "cell_type": "markdown",
   "id": "964c1b31-2eca-449c-be4b-c99fa815fee7",
   "metadata": {
    "tags": []
   },
   "source": [
    "## H/V"
   ]
  },
  {
   "cell_type": "code",
   "execution_count": null,
   "id": "6a836c32-3625-423f-bebe-d95066c393c3",
   "metadata": {},
   "outputs": [],
   "source": [
    "import scipy.io as io\n",
    "io.savemat('data.mat', {\"yf_E\": yf['E'],\n",
    "                        \"yf_N\": yf['N'],\n",
    "                        \"yf_Z\": yf['Z'],\n",
    "                        \"xf\": xf})"
   ]
  },
  {
   "cell_type": "code",
   "execution_count": null,
   "id": "6b31f3f0-204f-4e02-a427-ec4315b88ea8",
   "metadata": {
    "tags": []
   },
   "outputs": [],
   "source": [
    "## H/V\n",
    "yf = {}\n",
    "xf = fft.fftfreq(npts, delta)\n",
    "yf['E'] = fft.fft(traceE)\n",
    "yf['N'] = fft.fft(traceN)\n",
    "yf['Z'] = fft.fft(traceZ)\n",
    "\n",
    "def hv2(fE, fN, fZ):\n",
    "    return np.square((fE**2 + fN**2) / fZ**2)\n",
    "\n",
    "def hv1(fE, fN, fZ):\n",
    "    return ((fE + fN)/2.) / fZ\n",
    "\n",
    "y = hv2(yf['E'].real, yf['N'].real, yf['Z'].real)\n",
    "y_smooth = signal.savgol_filter(y,53,3)\n",
    "\n",
    "#yy = y[0:2::]\n",
    "\n",
    "#plt.plot(yf['E'][0: npts//2])\n",
    "plt.plot(xf[:npts//2], yf['E'][0: npts//2])\n",
    "plt.ylim(-100, 100)\n",
    "plt.xlabel('Frequence [Hz]')\n",
    "plt.show()"
   ]
  },
  {
   "cell_type": "markdown",
   "id": "10a81cb6-1ab0-4b3b-a850-166f3a181161",
   "metadata": {
    "tags": []
   },
   "source": [
    "## specgram"
   ]
  },
  {
   "cell_type": "code",
   "execution_count": null,
   "id": "0fc66324-b874-48b0-8916-6546541293b4",
   "metadata": {
    "tags": []
   },
   "outputs": [],
   "source": [
    "## plot\n",
    "utils.plot_time(xticks, data)\n",
    "utils.specgram(data, fs)\n",
    "\n",
    "\n",
    "def specgram1(data, fs):\n",
    "    ## plt specgram\n",
    "    Pxx, freqs, bins, im = plt.specgram(data, Fs=fs)\n",
    "    plt.xlabel('Time [s]')\n",
    "    plt.ylabel('Frequence [Hz]')\n",
    "    plt.xlim(0, 400)\n",
    "    plt.show()\n",
    "    \n",
    "specgram1(data, fs)\n",
    "\n",
    "#utils.plot_freq(data, delta)"
   ]
  },
  {
   "cell_type": "code",
   "execution_count": null,
   "id": "1c38069d-1450-4032-ba7d-65f0505b105e",
   "metadata": {
    "tags": []
   },
   "outputs": [],
   "source": [
    "## 滤波\n",
    "copy_traceZ = traceZ.copy()\n",
    "copy_traceZ.filter('bandpass', freqmin=0.1, freqmax=8)\n",
    "\n",
    "utils.plot_freq( copy_traceZ.data, delta)\n",
    "utils.plot_time(xticks, copy_traceZ.data)\n",
    "utils.specgram(copy_traceZ.data, fs)"
   ]
  },
  {
   "cell_type": "code",
   "execution_count": null,
   "id": "9ecb7a19-e941-4cc1-b2b2-b85bce0a25e7",
   "metadata": {},
   "outputs": [],
   "source": []
  }
 ],
 "metadata": {
  "kernelspec": {
   "display_name": "Python 3 (ipykernel)",
   "language": "python",
   "name": "python3"
  },
  "language_info": {
   "codemirror_mode": {
    "name": "ipython",
    "version": 3
   },
   "file_extension": ".py",
   "mimetype": "text/x-python",
   "name": "python",
   "nbconvert_exporter": "python",
   "pygments_lexer": "ipython3",
   "version": "3.9.13"
  },
  "toc-autonumbering": true,
  "toc-showcode": true,
  "toc-showmarkdowntxt": true
 },
 "nbformat": 4,
 "nbformat_minor": 5
}
