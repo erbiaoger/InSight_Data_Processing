{
 "cells": [
  {
   "cell_type": "code",
   "execution_count": 5,
   "id": "a9f189b3-1bc9-461c-9aea-16ae29c5d56f",
   "metadata": {
    "jupyter": {
     "source_hidden": true
    },
    "tags": []
   },
   "outputs": [
    {
     "name": "stdout",
     "output_type": "stream",
     "text": [
      "24\n"
     ]
    }
   ],
   "source": [
    "## 阶乘\n",
    "def get_jiecheng(num):\n",
    "    if (num < 0):\n",
    "        return False\n",
    "    elif (num == 0):\n",
    "        return 1\n",
    "    else:\n",
    "        jiecheng = 1\n",
    "        while(num != 0):\n",
    "            jiecheng *= num\n",
    "            num -= 1\n",
    "            \n",
    "        return jiecheng\n",
    "    \n",
    "\n",
    "## 测试\n",
    "print(get_jiecheng(4))"
   ]
  },
  {
   "cell_type": "code",
   "execution_count": 9,
   "id": "2cfb7e07-0f49-4eba-905e-ea04305c16cc",
   "metadata": {
    "jupyter": {
     "source_hidden": true
    },
    "tags": []
   },
   "outputs": [
    {
     "name": "stdout",
     "output_type": "stream",
     "text": [
      "12.57\n"
     ]
    }
   ],
   "source": [
    "## area of circle\n",
    "import numpy as np\n",
    "\n",
    "def compute_area_of_circle(r):\n",
    "    return round(np.pi * r**2, 2)        # round(x, num) 保留 x 的 num 位小数\n",
    "    \n",
    "## test\n",
    "print(compute_area_of_circle(2))\n"
   ]
  },
  {
   "cell_type": "code",
   "execution_count": 19,
   "id": "48cacd4b-6900-44fa-be19-bb1c3ed6e93a",
   "metadata": {
    "jupyter": {
     "source_hidden": true
    },
    "tags": []
   },
   "outputs": [
    {
     "name": "stdout",
     "output_type": "stream",
     "text": [
      "5\n",
      "7\n",
      "5\n",
      "7\n",
      "9\n"
     ]
    }
   ],
   "source": [
    "## print 素数\n",
    "def print_primes(begin, end):\n",
    "    for i in range(begin, end+1):\n",
    "        for j in range(2, i):\n",
    "            if (i % j == 0):\n",
    "                break\n",
    "        if (j == i-1):        \n",
    "            print(i)\n",
    "\n",
    "## other\n",
    "def is_primes(number):\n",
    "    for i in range(2, number):\n",
    "        if(number % i == 0):\n",
    "            return False\n",
    "        else:\n",
    "            return True\n",
    "           \n",
    "def print_primes1(begin, end):\n",
    "    for number in range(begin, end+1):\n",
    "        if (is_primes(number)):\n",
    "            print(number)\n",
    "            \n",
    "\n",
    "## test\n",
    "begin = 5\n",
    "end = 10\n",
    "\n",
    "print_primes(begin, end)\n",
    "print_primes1(begin, end)\n"
   ]
  },
  {
   "cell_type": "code",
   "execution_count": 26,
   "id": "084ba8c9-c3a9-472e-bfd0-803520906446",
   "metadata": {
    "jupyter": {
     "source_hidden": true
    },
    "tags": []
   },
   "outputs": [
    {
     "name": "stdout",
     "output_type": "stream",
     "text": [
      "14\n"
     ]
    }
   ],
   "source": [
    "## 前 N 个数的平方和\n",
    "def sum_of_square(N):\n",
    "    sum_suqre = 0\n",
    "    for i in range(N+1):\n",
    "        sum_suqre += i**2\n",
    "        \n",
    "    return sum_suqre\n",
    "\n",
    "\n",
    "## test\n",
    "print(sum_of_square(3))"
   ]
  },
  {
   "cell_type": "code",
   "execution_count": 29,
   "id": "31e29f0b-6c85-400c-ad23-ebcf1c6015a4",
   "metadata": {
    "jupyter": {
     "source_hidden": true
    },
    "tags": []
   },
   "outputs": [
    {
     "name": "stdout",
     "output_type": "stream",
     "text": [
      "20\n",
      "20\n"
     ]
    }
   ],
   "source": [
    "## sum of list\n",
    "def sum_of_list(lis):\n",
    "    result = 0\n",
    "    for item in lis:\n",
    "        result += item\n",
    "        \n",
    "    return result\n",
    "\n",
    "## test\n",
    "lis1 = [10, 2, 3, 5]\n",
    "print(sum_of_list(lis1))\n",
    "\n",
    "## sum function\n",
    "print(sum(lis1))"
   ]
  },
  {
   "cell_type": "code",
   "execution_count": 32,
   "id": "558143c0-13fd-4b23-a902-1333ee66cae0",
   "metadata": {
    "jupyter": {
     "source_hidden": true
    },
    "tags": []
   },
   "outputs": [
    {
     "name": "stdout",
     "output_type": "stream",
     "text": [
      "[6, 8, 10, 12, 14, 16, 18, 20, 22, 24, 26, 28, 30, 32, 34, 36, 38, 40]\n",
      "[6, 8, 10, 12, 14, 16, 18, 20, 22, 24, 26, 28, 30, 32, 34, 36, 38, 40]\n"
     ]
    }
   ],
   "source": [
    "## even \n",
    "def is_even(num):\n",
    "    return (num % 2) == 0\n",
    "\n",
    "def get_even(begin, end):\n",
    "    result = []\n",
    "    for i in range(begin, end+1):\n",
    "        if (is_even(i)):\n",
    "            result.append(i)\n",
    "    return result\n",
    "\n",
    "## test\n",
    "begin = 5\n",
    "end = 40\n",
    "\n",
    "print(get_even(begin, end))\n",
    "\n",
    "## 列表生成器\n",
    "print([i for i in range(begin, end+1) if (i%2 == 0)])"
   ]
  },
  {
   "cell_type": "code",
   "execution_count": 1,
   "id": "017b9523-2391-4540-893c-6fca41d099ac",
   "metadata": {},
   "outputs": [],
   "source": [
    "##  remove elements from list\n",
    "def remove_elements_from_list(lisa, lisb):\n",
    "    \n",
    "    pass\n",
    "\n",
    "## test\n",
    "lis1 = [1, 2, 4, 5, 7, 3]\n",
    "lis2 = [4, 3]\n",
    "lis3 = remove_elements_from_list(lis1, lis2)"
   ]
  },
  {
   "cell_type": "code",
   "execution_count": 2,
   "id": "54b00a87-06b9-4108-a4f6-38d9120392fe",
   "metadata": {},
   "outputs": [],
   "source": [
    "a = 'xydz'\n",
    "lis = list(a)\n",
    "lis = lis[::-1]\n"
   ]
  },
  {
   "cell_type": "code",
   "execution_count": 3,
   "id": "bcc63e4f-a80b-4839-90bf-1e6155251967",
   "metadata": {},
   "outputs": [],
   "source": [
    "str1 = ''.join(lis)"
   ]
  },
  {
   "cell_type": "code",
   "execution_count": 4,
   "id": "7fc7086b-b117-4306-95cb-bde198db345e",
   "metadata": {},
   "outputs": [
    {
     "data": {
      "text/plain": [
       "'zdyx'"
      ]
     },
     "execution_count": 4,
     "metadata": {},
     "output_type": "execute_result"
    }
   ],
   "source": [
    "str1"
   ]
  },
  {
   "cell_type": "code",
   "execution_count": null,
   "id": "f77d1a97-017f-434b-b8e8-1fd7698a75bc",
   "metadata": {},
   "outputs": [],
   "source": []
  }
 ],
 "metadata": {
  "kernelspec": {
   "display_name": "Python 3 (ipykernel)",
   "language": "python",
   "name": "python3"
  },
  "language_info": {
   "codemirror_mode": {
    "name": "ipython",
    "version": 3
   },
   "file_extension": ".py",
   "mimetype": "text/x-python",
   "name": "python",
   "nbconvert_exporter": "python",
   "pygments_lexer": "ipython3",
   "version": "3.9.14"
  }
 },
 "nbformat": 4,
 "nbformat_minor": 5
}
